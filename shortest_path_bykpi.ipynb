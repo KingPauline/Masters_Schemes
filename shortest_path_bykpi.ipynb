{
  "nbformat": 4,
  "nbformat_minor": 0,
  "metadata": {
    "colab": {
      "provenance": [],
      "authorship_tag": "ABX9TyNQhF4M2q6jG0/CGHY8vGkv",
      "include_colab_link": true
    },
    "kernelspec": {
      "name": "python3",
      "display_name": "Python 3"
    },
    "language_info": {
      "name": "python"
    }
  },
  "cells": [
    {
      "cell_type": "markdown",
      "metadata": {
        "id": "view-in-github",
        "colab_type": "text"
      },
      "source": [
        "<a href=\"https://colab.research.google.com/github/KingPauline/Masters_Schemes/blob/master/shortest_path_bykpi.ipynb\" target=\"_parent\"><img src=\"https://colab.research.google.com/assets/colab-badge.svg\" alt=\"Open In Colab\"/></a>"
      ]
    },
    {
      "cell_type": "markdown",
      "source": [
        "Зададим произвольный граф с 10 узлами *ниже будет рисунок*\n",
        "Определим показатели KPI, как время, стоимость и надежность.Граф содержит 10 узлов, на каждой дуге определяется 3 свойства: время в пути,затраты на перевозку, надежность. Диапазон значений весов 0 < x <= 1"
      ],
      "metadata": {
        "id": "yQIHxk583FHp"
      }
    },
    {
      "cell_type": "code",
      "execution_count": null,
      "metadata": {
        "id": "VSYXIuEylbNh"
      },
      "outputs": [],
      "source": [
        "import networkx as nx\n",
        "import matplotlib.pyplot as plt\n",
        "# Задаем граф и веса как время\n",
        "edges =  [\n",
        "       (1,2, {\"time\":0.2,\"cost\":0.3,\"sec\":0.1}),\n",
        "       (1,3, {\"time\":0.1, \"cost\":0.2,\"sec\":0.5}),\n",
        "       (2,3, {\"time\":0.8, \"cost\":0.7,\"sec\":0.3}),\n",
        "       (2,5, {\"time\":0.15, \"cost\":0.1,\"sec\":0.5}),\n",
        "       (3,4, {\"time\":0.7, \"cost\":0.6,\"sec\":0.4}),\n",
        "       (4,5, {\"time\":0.2, \"cost\":0.2,\"sec\":0.2}),\n",
        "       (5,6, {\"time\":0.1, \"cost\":0.7,\"sec\":0.8}),\n",
        "       (5,8, {\"time\":0.35, \"cost\":0.5,\"sec\":0.5}),\n",
        "       (6,7, {\"time\":0.3, \"cost\":0.7,\"sec\":0.05}),\n",
        "       (6,8, {\"time\":0.1, \"cost\":0.6,\"sec\":0.6}),\n",
        "       (7,8, {\"time\":0.9, \"cost\":0.1,\"sec\":0.4}),\n",
        "       (7,9, {\"time\":0.25, \"cost\":0.4,\"sec\":0.3}),\n",
        "       (7,10, {\"time\":0.44, \"cost\":0.2,\"sec\":0.2}),\n",
        "       (8,9, {\"time\":0.05, \"cost\":0.8,\"sec\":0.6}),\n",
        "       (9,10, {\"time\":0.4, \"cost\":0.75,\"sec\":0.1}),\n",
        "]\n",
        "\n",
        "G=nx.Graph()\n",
        "# Добавляем узлы\n",
        "for i in range(1,11):\n",
        "    G.add_node(i)\n",
        "# Добавляем дуги\n",
        "G.add_edges_from(edges)"
      ]
    },
    {
      "cell_type": "code",
      "source": [
        "# # Рисуем граф\n",
        "pos = nx.spring_layout(G)\n",
        "nx.draw_networkx(G, pos)\n",
        "plt.show()"
      ],
      "metadata": {
        "colab": {
          "base_uri": "https://localhost:8080/",
          "height": 406
        },
        "id": "RefLLQ-YFZoI",
        "outputId": "cdde79e5-d31f-4d4a-b5ed-bc9c1b0ef495"
      },
      "execution_count": null,
      "outputs": [
        {
          "output_type": "display_data",
          "data": {
            "text/plain": [
              "<Figure size 640x480 with 1 Axes>"
            ],
            "image/png": "[encoded data removed]"
          },
          "metadata": {}
        }
      ]
    },
    {
      "cell_type": "markdown",
      "source": [
        "Найдем целевой KPI. Определим кратчайшие пути по каждому параметру"
      ],
      "metadata": {
        "id": "gTNdWzBeFr9c"
      }
    },
    {
      "cell_type": "code",
      "source": [
        "#По времени\n",
        "p1to10_time = nx.shortest_path(G, source=1, target=10, weight=\"time\")\n",
        "length_time = nx.shortest_path_length(G, source=1, target=10, weight=\"time\")\n",
        "print(\"Кратчайший путь от узла 1 до 10 по времени: \", p1to10_time)\n",
        "print(\"Длина кратчайшего пути по времени: \", length_time)\n",
        "length_time_balanced = length_time + length_time*0.4\n",
        "print(\"Длина кратчайшего пути по времени c уступкой: \", length_time_balanced)"
      ],
      "metadata": {
        "colab": {
          "base_uri": "https://localhost:8080/"
        },
        "id": "HHGRB9ubFnlK",
        "outputId": "11768bfe-a607-4bdf-b800-d9f1d4d5f0cb"
      },
      "execution_count": null,
      "outputs": [
        {
          "output_type": "stream",
          "name": "stdout",
          "text": [
            "Кратчайший путь от узла 1 до 10 по времени:  [1, 2, 5, 6, 8, 9, 10]\n",
            "Длина кратчайшего пути по времени:  1.0\n",
            "Длина кратчайшего пути по времени c уступкой:  1.4\n"
          ]
        }
      ]
    },
    {
      "cell_type": "code",
      "source": [
        "# По стоимости\n",
        "p1to10_cost = nx.shortest_path(G, source=1, target=10, weight=\"cost\")\n",
        "length_cost = nx.shortest_path_length(G, source=1, target=10, weight=\"cost\")\n",
        "print(\"Кратчайший путь от узла 1 до 10 по затратам: \", p1to10_cost)\n",
        "length_cost_balanced = length_cost + length_cost*0.4\n",
        "print(\"Длина кратчайшего пути по затратам: \", length_cost)\n",
        "print(\"Длина кратчайшего пути по затратам с уступкой: \", length_cost_balanced)"
      ],
      "metadata": {
        "colab": {
          "base_uri": "https://localhost:8080/"
        },
        "id": "qguai6fEqkNu",
        "outputId": "bc3f3e0c-862b-49a0-c6a3-323526b63bbf"
      },
      "execution_count": null,
      "outputs": [
        {
          "output_type": "stream",
          "name": "stdout",
          "text": [
            "Кратчайший путь от узла 1 до 10 по затратам:  [1, 2, 5, 8, 7, 10]\n",
            "Длина кратчайшего пути по затратам:  1.2\n",
            "Длина кратчайшего пути по затратам с уступкой:  1.68\n"
          ]
        }
      ]
    },
    {
      "cell_type": "code",
      "source": [
        "# По надежности\n",
        "p1to10_sec = nx.shortest_path(G, source=1, target=10, weight=\"sec\")\n",
        "length_sec = nx.shortest_path_length(G, source=1, target=10, weight=\"sec\")\n",
        "print(\"Кратчайший путь от узла 1 до 10 по надежности: \", p1to10_sec)\n",
        "print(\"Длина кратчайшего пути по надежности: \", length_sec)\n",
        "length_sec_balanced = length_sec + length_sec*0.4\n",
        "print(\"Длина кратчайшего пути по надежности с уступкой: \", length_sec_balanced)"
      ],
      "metadata": {
        "colab": {
          "base_uri": "https://localhost:8080/"
        },
        "id": "FuzO5T3VtSS5",
        "outputId": "f24cdd4e-b3c2-42a9-ab5e-0210168349f1"
      },
      "execution_count": null,
      "outputs": [
        {
          "output_type": "stream",
          "name": "stdout",
          "text": [
            "Кратчайший путь от узла 1 до 10 по надежности:  [1, 2, 5, 6, 7, 10]\n",
            "Длина кратчайшего пути по надежности:  1.65\n",
            "Длина кратчайшего пути по надежности:  2.31\n"
          ]
        }
      ]
    },
    {
      "cell_type": "markdown",
      "source": [
        "Берем за основу минимальную стоимость"
      ],
      "metadata": {
        "id": "jk2Kj2Jr3kAS"
      }
    },
    {
      "cell_type": "code",
      "source": [
        "print(\"Кратчайший путь от узла 1 до 10 по затратам: \", p1to10_cost)\n",
        "print(\"Целевые KPI: Время\",length_time_balanced,\", Стоимость\", length_cost_balanced, \", Надежность\", length_sec_balanced)\n",
        "min_cost_time = nx.path_weight(G,p1to10_cost, weight=\"time\")\n",
        "min_cost_sec = nx.path_weight(G,p1to10_cost, weight=\"sec\")\n",
        "print(\"Текущие KPI: Время\",min_cost_time,\", Стоимость\", length_cost, \", Надежность\", min_cost_sec)\n"
      ],
      "metadata": {
        "colab": {
          "base_uri": "https://localhost:8080/"
        },
        "id": "Baf2AaIm4LLO",
        "outputId": "b2d9c27d-b2e3-474b-cb8c-1bfdee8e8413"
      },
      "execution_count": null,
      "outputs": [
        {
          "output_type": "stream",
          "name": "stdout",
          "text": [
            "Кратчайший путь от узла 1 до 10 по затратам:  [1, 2, 5, 8, 7, 10]\n",
            "Целевые KPI: Время 1.4 , Стоимость 1.68 , Надежность 2.31\n",
            "Текущие KPI: Время 2.04 , Стоимость 1.2 , Надежность 1.7\n"
          ]
        }
      ]
    },
    {
      "cell_type": "markdown",
      "source": [
        "Видим, что мы не укладываемcя по времени в целевые KPI. Целевое значение - 1.4, текущее 2.04. Следовательно, нам необходимо принять уступку на стоимости. Сделаем минимизацию по времени с учетом, что стоимость может быть выше целевого значения, добавим 20%"
      ],
      "metadata": {
        "id": "seF60wOFP8x8"
      }
    },
    {
      "cell_type": "code",
      "source": [
        "print(\"Кратчайший путь от узла 1 до 10 по времени: \", p1to10_time)\n",
        "print(\"Целевые KPI: Время\",length_time_balanced,\", Стоимость\", (length_cost_balanced + length_cost_balanced*0.2), \", Надежность\", length_sec_balanced)\n",
        "min_time_cost = nx.path_weight(G,p1to10_time, weight=\"cost\")\n",
        "min_time_sec = nx.path_weight(G,p1to10_time, weight=\"sec\")\n",
        "print(\"Текущие KPI: Время\",length_time,\", Стоимость\", min_time_cost, \", Надежность\", min_time_sec)\n"
      ],
      "metadata": {
        "colab": {
          "base_uri": "https://localhost:8080/"
        },
        "id": "7H8aUAi7-FGt",
        "outputId": "025a8cbc-f8ff-4a44-b07f-3969c914f0db"
      },
      "execution_count": null,
      "outputs": [
        {
          "output_type": "stream",
          "name": "stdout",
          "text": [
            "Кратчайший путь от узла 1 до 10 по времени:  [1, 2, 5, 6, 8, 9, 10]\n",
            "Целевые KPI: Время 1.4 , Стоимость 2.016 , Надежность 2.31\n",
            "Текущие KPI: Время 1.0 , Стоимость 3.25 , Надежность 2.7\n"
          ]
        }
      ]
    },
    {
      "cell_type": "markdown",
      "source": [
        "Из минимизации времени мы видим, что стоимость сильно возросла по отношению к целевому KPI и даже при уступке сильно превышает целевое значение. Надежность также превышает целевое значение. Попробуем минимизировать надежность с уступкой по времени +20%"
      ],
      "metadata": {
        "id": "uSHEJBo6QwFL"
      }
    },
    {
      "cell_type": "code",
      "source": [
        "print(\"Кратчайший путь от узла 1 до 10 по надежности: \", p1to10_sec)\n",
        "print(\"Целевые KPI: Время\",(length_time_balanced + length_time_balanced*0.2),\", Стоимость\", (length_cost_balanced + length_cost_balanced*0.2), \", Надежность\", length_sec_balanced)\n",
        "min_sec_time = nx.path_weight(G,p1to10_sec, weight=\"time\")\n",
        "min_sec_cost = nx.path_weight(G,p1to10_sec, weight=\"cost\")\n",
        "print(\"Текущие KPI: Время\",min_sec_time,\", Стоимость\", min_sec_cost, \", Надежность\", length_sec)"
      ],
      "metadata": {
        "colab": {
          "base_uri": "https://localhost:8080/"
        },
        "id": "JgZkQPWN-p7c",
        "outputId": "0a931ea9-524e-485e-8e61-e19c01d42c40"
      },
      "execution_count": null,
      "outputs": [
        {
          "output_type": "stream",
          "name": "stdout",
          "text": [
            "Кратчайший путь от узла 1 до 10 по надежности:  [1, 2, 5, 6, 7, 10]\n",
            "Целевые KPI: Время 1.68 , Стоимость 2.016 , Надежность 2.31\n",
            "Текущие KPI: Время 1.19 , Стоимость 2.0 , Надежность 1.65\n"
          ]
        }
      ]
    },
    {
      "cell_type": "markdown",
      "source": [
        "Мы видим, что при минимизации надежности удалось уложиться во времени, стоимости и надежности\n",
        "\n",
        "Имеем два варианта KPI:\n",
        "\n",
        "**При минимизации стоимости:** sum(Время 2.04 , Стоимость 1.2 , Надежность 1.7) = 4.94\n",
        "\n",
        "**При минимизации надежности:** sum (Время 1.19 , Стоимость 2.0 , Надежность 1.65) = 4.84\n",
        "\n",
        "Выберем сбалансированный KPI\n",
        "\n",
        "Сбалансированный KPI:  Время 1.19 , Стоимость 2.0 , Надежность 1.65\n",
        "\n",
        "Первоначальный целевой KPI: Время 1.4 , Стоимость 1.68 , Надежность 2.31\n"
      ],
      "metadata": {
        "id": "wdAieCXQSiph"
      }
    }
  ]
}